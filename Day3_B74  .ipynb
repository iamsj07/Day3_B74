{
 "cells": [
  {
   "cell_type": "code",
   "execution_count": 40,
   "id": "8e8f8c91",
   "metadata": {},
   "outputs": [
    {
     "name": "stdout",
     "output_type": "stream",
     "text": [
      "bharat\n"
     ]
    }
   ],
   "source": [
    "first_name = 'bharat'\n",
    "print(first_name)"
   ]
  },
  {
   "cell_type": "code",
   "execution_count": 41,
   "id": "21d24113",
   "metadata": {},
   "outputs": [
    {
     "name": "stdout",
     "output_type": "stream",
     "text": [
      "reddy\n"
     ]
    }
   ],
   "source": [
    "last_name = 'reddy'\n",
    "print(last_name)"
   ]
  },
  {
   "cell_type": "code",
   "execution_count": 45,
   "id": "0979a76e",
   "metadata": {},
   "outputs": [],
   "source": [
    "full_name = f\"((first_name) (last_name))\""
   ]
  },
  {
   "cell_type": "code",
   "execution_count": 46,
   "id": "990afe3e",
   "metadata": {
    "scrolled": true
   },
   "outputs": [
    {
     "name": "stdout",
     "output_type": "stream",
     "text": [
      "((first_name) (last_name))\n"
     ]
    }
   ],
   "source": [
    "print(full_name)"
   ]
  },
  {
   "cell_type": "code",
   "execution_count": 21,
   "id": "c5ffeaa2",
   "metadata": {},
   "outputs": [],
   "source": [
    "message = f\"keep up the good work,(full_name.title())\""
   ]
  },
  {
   "cell_type": "code",
   "execution_count": 22,
   "id": "62d7511e",
   "metadata": {},
   "outputs": [
    {
     "name": "stdout",
     "output_type": "stream",
     "text": [
      "keep up the good work,(full_name.title())\n"
     ]
    }
   ],
   "source": [
    "print(message)"
   ]
  },
  {
   "cell_type": "code",
   "execution_count": 16,
   "id": "46388052",
   "metadata": {},
   "outputs": [
    {
     "name": "stdout",
     "output_type": "stream",
     "text": [
      "favourite_programming_language:pythonjavac++swiftpascalcobal\n"
     ]
    }
   ],
   "source": [
    "print(\"favourite_programming_language:pythonjavac++swiftpascalcobal\")"
   ]
  },
  {
   "cell_type": "code",
   "execution_count": 17,
   "id": "2cbbed44",
   "metadata": {},
   "outputs": [
    {
     "name": "stdout",
     "output_type": "stream",
     "text": [
      "favourite_programming_language:\n",
      "python\n",
      "java\n",
      "c++\n",
      "swift\n",
      "pascal\n",
      "cobal\n"
     ]
    }
   ],
   "source": [
    "print(\"favourite_programming_language:\\npython\\njava\\nc++\\nswift\\npascal\\ncobal\")"
   ]
  },
  {
   "cell_type": "code",
   "execution_count": 18,
   "id": "36223f57",
   "metadata": {},
   "outputs": [
    {
     "name": "stdout",
     "output_type": "stream",
     "text": [
      "favourite_programming_language:\n",
      "\tpython\n",
      "\tjava\n",
      "\tc++\n",
      "\tswift\n",
      "\tpascal\n",
      "\tcobal\n"
     ]
    }
   ],
   "source": [
    "print(\"favourite_programming_language:\\n\\tpython\\n\\tjava\\n\\tc++\\n\\tswift\\n\\tpascal\\n\\tcobal\")"
   ]
  },
  {
   "cell_type": "code",
   "execution_count": 23,
   "id": "0b0dd895",
   "metadata": {},
   "outputs": [],
   "source": [
    "name = 'python'"
   ]
  },
  {
   "cell_type": "code",
   "execution_count": 24,
   "id": "5ab5f14a",
   "metadata": {},
   "outputs": [
    {
     "name": "stdout",
     "output_type": "stream",
     "text": [
      "python\n"
     ]
    }
   ],
   "source": [
    "print(name)"
   ]
  },
  {
   "cell_type": "code",
   "execution_count": 27,
   "id": "bb3f6ab5",
   "metadata": {},
   "outputs": [],
   "source": [
    "name2 = '    python'"
   ]
  },
  {
   "cell_type": "code",
   "execution_count": 28,
   "id": "2509b311",
   "metadata": {},
   "outputs": [
    {
     "name": "stdout",
     "output_type": "stream",
     "text": [
      "    python\n"
     ]
    }
   ],
   "source": [
    "print(name2)"
   ]
  },
  {
   "cell_type": "code",
   "execution_count": 33,
   "id": "b8dac7a0",
   "metadata": {},
   "outputs": [],
   "source": [
    "name3 = 'python   '"
   ]
  },
  {
   "cell_type": "code",
   "execution_count": 34,
   "id": "d3c4b2d0",
   "metadata": {},
   "outputs": [
    {
     "name": "stdout",
     "output_type": "stream",
     "text": [
      "python   \n"
     ]
    }
   ],
   "source": [
    "print(name3)"
   ]
  },
  {
   "cell_type": "code",
   "execution_count": 35,
   "id": "18708b4c",
   "metadata": {},
   "outputs": [
    {
     "data": {
      "text/plain": [
       "'python'"
      ]
     },
     "execution_count": 35,
     "metadata": {},
     "output_type": "execute_result"
    }
   ],
   "source": [
    "name2.lstrip()"
   ]
  },
  {
   "cell_type": "code",
   "execution_count": 36,
   "id": "879d9770",
   "metadata": {},
   "outputs": [
    {
     "data": {
      "text/plain": [
       "'python'"
      ]
     },
     "execution_count": 36,
     "metadata": {},
     "output_type": "execute_result"
    }
   ],
   "source": [
    "name3.rstrip()"
   ]
  },
  {
   "cell_type": "code",
   "execution_count": 37,
   "id": "1df238c9",
   "metadata": {},
   "outputs": [],
   "source": [
    "name4 = '    python   '"
   ]
  },
  {
   "cell_type": "code",
   "execution_count": 38,
   "id": "a0c340ab",
   "metadata": {},
   "outputs": [
    {
     "name": "stdout",
     "output_type": "stream",
     "text": [
      "    python   \n"
     ]
    }
   ],
   "source": [
    "print(name4)"
   ]
  },
  {
   "cell_type": "code",
   "execution_count": 39,
   "id": "af4b15f9",
   "metadata": {},
   "outputs": [
    {
     "data": {
      "text/plain": [
       "'python'"
      ]
     },
     "execution_count": 39,
     "metadata": {},
     "output_type": "execute_result"
    }
   ],
   "source": [
    "name4.strip()"
   ]
  },
  {
   "cell_type": "code",
   "execution_count": null,
   "id": "afadd43c",
   "metadata": {},
   "outputs": [],
   "source": []
  }
 ],
 "metadata": {
  "kernelspec": {
   "display_name": "Python 3 (ipykernel)",
   "language": "python",
   "name": "python3"
  },
  "language_info": {
   "codemirror_mode": {
    "name": "ipython",
    "version": 3
   },
   "file_extension": ".py",
   "mimetype": "text/x-python",
   "name": "python",
   "nbconvert_exporter": "python",
   "pygments_lexer": "ipython3",
   "version": "3.9.13"
  }
 },
 "nbformat": 4,
 "nbformat_minor": 5
}
